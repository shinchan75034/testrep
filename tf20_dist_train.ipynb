{
  "nbformat": 4,
  "nbformat_minor": 0,
  "metadata": {
    "colab": {
      "name": "tf20_dist_train.ipynb",
      "provenance": [],
      "include_colab_link": true
    },
    "kernelspec": {
      "name": "python3",
      "display_name": "Python 3"
    },
    "accelerator": "GPU"
  },
  "cells": [
    {
      "cell_type": "markdown",
      "metadata": {
        "id": "view-in-github",
        "colab_type": "text"
      },
      "source": [
        "<a href=\"https://colab.research.google.com/github/shinchan75034/testrep/blob/master/tf20_dist_train.ipynb\" target=\"_parent\"><img src=\"https://colab.research.google.com/assets/colab-badge.svg\" alt=\"Open In Colab\"/></a>"
      ]
    },
    {
      "cell_type": "code",
      "metadata": {
        "id": "BQz_d5QbDhrM",
        "colab_type": "code",
        "colab": {
          "base_uri": "https://localhost:8080/",
          "height": 399
        },
        "outputId": "15aa274b-5905-499e-d229-47c7a51cfa18"
      },
      "source": [
        "! pip install tensorflow-gpu==2.0.0-rc1"
      ],
      "execution_count": 1,
      "outputs": [
        {
          "output_type": "stream",
          "text": [
            "Requirement already satisfied: tensorflow-gpu==2.0.0-rc1 in /usr/local/lib/python3.6/dist-packages (2.0.0rc1)\n",
            "Requirement already satisfied: numpy<2.0,>=1.16.0 in /usr/local/lib/python3.6/dist-packages (from tensorflow-gpu==2.0.0-rc1) (1.16.5)\n",
            "Requirement already satisfied: google-pasta>=0.1.6 in /usr/local/lib/python3.6/dist-packages (from tensorflow-gpu==2.0.0-rc1) (0.1.7)\n",
            "Requirement already satisfied: keras-preprocessing>=1.0.5 in /usr/local/lib/python3.6/dist-packages (from tensorflow-gpu==2.0.0-rc1) (1.1.0)\n",
            "Requirement already satisfied: absl-py>=0.7.0 in /usr/local/lib/python3.6/dist-packages (from tensorflow-gpu==2.0.0-rc1) (0.8.0)\n",
            "Requirement already satisfied: opt-einsum>=2.3.2 in /usr/local/lib/python3.6/dist-packages (from tensorflow-gpu==2.0.0-rc1) (3.0.1)\n",
            "Requirement already satisfied: six>=1.10.0 in /usr/local/lib/python3.6/dist-packages (from tensorflow-gpu==2.0.0-rc1) (1.12.0)\n",
            "Requirement already satisfied: grpcio>=1.8.6 in /usr/local/lib/python3.6/dist-packages (from tensorflow-gpu==2.0.0-rc1) (1.15.0)\n",
            "Requirement already satisfied: astor>=0.6.0 in /usr/local/lib/python3.6/dist-packages (from tensorflow-gpu==2.0.0-rc1) (0.8.0)\n",
            "Requirement already satisfied: tf-estimator-nightly<1.14.0.dev2019080602,>=1.14.0.dev2019080601 in /usr/local/lib/python3.6/dist-packages (from tensorflow-gpu==2.0.0-rc1) (1.14.0.dev2019080601)\n",
            "Requirement already satisfied: wrapt>=1.11.1 in /usr/local/lib/python3.6/dist-packages (from tensorflow-gpu==2.0.0-rc1) (1.11.2)\n",
            "Requirement already satisfied: keras-applications>=1.0.8 in /usr/local/lib/python3.6/dist-packages (from tensorflow-gpu==2.0.0-rc1) (1.0.8)\n",
            "Requirement already satisfied: protobuf>=3.6.1 in /usr/local/lib/python3.6/dist-packages (from tensorflow-gpu==2.0.0-rc1) (3.7.1)\n",
            "Requirement already satisfied: wheel>=0.26 in /usr/local/lib/python3.6/dist-packages (from tensorflow-gpu==2.0.0-rc1) (0.33.6)\n",
            "Requirement already satisfied: gast>=0.2.0 in /usr/local/lib/python3.6/dist-packages (from tensorflow-gpu==2.0.0-rc1) (0.2.2)\n",
            "Requirement already satisfied: termcolor>=1.1.0 in /usr/local/lib/python3.6/dist-packages (from tensorflow-gpu==2.0.0-rc1) (1.1.0)\n",
            "Requirement already satisfied: tb-nightly<1.15.0a20190807,>=1.15.0a20190806 in /usr/local/lib/python3.6/dist-packages (from tensorflow-gpu==2.0.0-rc1) (1.15.0a20190806)\n",
            "Requirement already satisfied: h5py in /usr/local/lib/python3.6/dist-packages (from keras-applications>=1.0.8->tensorflow-gpu==2.0.0-rc1) (2.8.0)\n",
            "Requirement already satisfied: setuptools in /usr/local/lib/python3.6/dist-packages (from protobuf>=3.6.1->tensorflow-gpu==2.0.0-rc1) (41.2.0)\n",
            "Requirement already satisfied: werkzeug>=0.11.15 in /usr/local/lib/python3.6/dist-packages (from tb-nightly<1.15.0a20190807,>=1.15.0a20190806->tensorflow-gpu==2.0.0-rc1) (0.15.6)\n",
            "Requirement already satisfied: markdown>=2.6.8 in /usr/local/lib/python3.6/dist-packages (from tb-nightly<1.15.0a20190807,>=1.15.0a20190806->tensorflow-gpu==2.0.0-rc1) (3.1.1)\n"
          ],
          "name": "stdout"
        }
      ]
    },
    {
      "cell_type": "code",
      "metadata": {
        "id": "FjuiuhwSDz4-",
        "colab_type": "code",
        "colab": {
          "base_uri": "https://localhost:8080/",
          "height": 569
        },
        "outputId": "b359aaeb-dbfd-4202-9d81-dcf86d00ec0e"
      },
      "source": [
        "import tensorflow as tf\n",
        "from tensorflow.python.client import device_lib\n",
        "print(device_lib.list_local_devices())\n",
        "print(tf.__version__)"
      ],
      "execution_count": 2,
      "outputs": [
        {
          "output_type": "stream",
          "text": [
            "[name: \"/device:CPU:0\"\n",
            "device_type: \"CPU\"\n",
            "memory_limit: 268435456\n",
            "locality {\n",
            "}\n",
            "incarnation: 5616540783915904173\n",
            ", name: \"/device:XLA_CPU:0\"\n",
            "device_type: \"XLA_CPU\"\n",
            "memory_limit: 17179869184\n",
            "locality {\n",
            "}\n",
            "incarnation: 8964607837846894019\n",
            "physical_device_desc: \"device: XLA_CPU device\"\n",
            ", name: \"/device:XLA_GPU:0\"\n",
            "device_type: \"XLA_GPU\"\n",
            "memory_limit: 17179869184\n",
            "locality {\n",
            "}\n",
            "incarnation: 5305775699766031626\n",
            "physical_device_desc: \"device: XLA_GPU device\"\n",
            ", name: \"/device:GPU:0\"\n",
            "device_type: \"GPU\"\n",
            "memory_limit: 11330115994\n",
            "locality {\n",
            "  bus_id: 1\n",
            "  links {\n",
            "  }\n",
            "}\n",
            "incarnation: 8054168635746750968\n",
            "physical_device_desc: \"device: 0, name: Tesla K80, pci bus id: 0000:00:04.0, compute capability: 3.7\"\n",
            "]\n",
            "2.0.0-rc1\n"
          ],
          "name": "stdout"
        }
      ]
    },
    {
      "cell_type": "code",
      "metadata": {
        "id": "CNzzLc-oECoT",
        "colab_type": "code",
        "colab": {
          "base_uri": "https://localhost:8080/",
          "height": 68
        },
        "outputId": "e9b5a1d9-be48-4aac-c965-840f54b05c0a"
      },
      "source": [
        "! pip install tf-explain"
      ],
      "execution_count": 3,
      "outputs": [
        {
          "output_type": "stream",
          "text": [
            "Requirement already satisfied: tf-explain in /usr/local/lib/python3.6/dist-packages (0.0.2a0)\n",
            "Requirement already satisfied: opencv-python>=4.1.0.25 in /usr/local/lib/python3.6/dist-packages (from tf-explain) (4.1.1.26)\n",
            "Requirement already satisfied: numpy>=1.11.3 in /usr/local/lib/python3.6/dist-packages (from opencv-python>=4.1.0.25->tf-explain) (1.16.5)\n"
          ],
          "name": "stdout"
        }
      ]
    },
    {
      "cell_type": "code",
      "metadata": {
        "id": "-Mo-qlAcEJMk",
        "colab_type": "code",
        "colab": {}
      },
      "source": [
        "import tf_explain\n",
        "import numpy as np\n",
        "import time"
      ],
      "execution_count": 0,
      "outputs": []
    },
    {
      "cell_type": "code",
      "metadata": {
        "id": "e5uY-jlpETVz",
        "colab_type": "code",
        "colab": {}
      },
      "source": [
        "INPUT_SHAPE = (28, 28, 1)\n",
        "NUM_CLASSES = 10\n",
        "\n",
        "AVAILABLE_DATASETS = {\n",
        "    'mnist': tf.keras.datasets.mnist,\n",
        "    'fashion_mnist': tf.keras.datasets.fashion_mnist,\n",
        "}\n",
        "DATASET_NAME = 'fashion_mnist' "
      ],
      "execution_count": 0,
      "outputs": []
    },
    {
      "cell_type": "code",
      "metadata": {
        "id": "j9KoadWWEXI2",
        "colab_type": "code",
        "colab": {}
      },
      "source": [
        "# Load dataset\n",
        "dataset = AVAILABLE_DATASETS[DATASET_NAME]\n",
        "(train_images, train_labels), (test_images, test_labels) = dataset.load_data()"
      ],
      "execution_count": 0,
      "outputs": []
    },
    {
      "cell_type": "code",
      "metadata": {
        "id": "U5ArxFlJEZYg",
        "colab_type": "code",
        "colab": {}
      },
      "source": [
        "def scale(image, label):\n",
        "  image = tf.cast(image, tf.float32)\n",
        "  image /= 255\n",
        "\n",
        "  return image, label\n",
        "\n",
        "# Convert from (28, 28) images to (28, 28, 1) '...' is equivalent to ':' which means everything. now train images are shape 60k, 28,28,1\n",
        "train_images = train_images[..., tf.newaxis]\n",
        "test_images = test_images[..., tf.newaxis]"
      ],
      "execution_count": 0,
      "outputs": []
    },
    {
      "cell_type": "code",
      "metadata": {
        "id": "0kusZqYOEcQB",
        "colab_type": "code",
        "colab": {}
      },
      "source": [
        "idx = np.random.choice(len(train_images), 10000, replace = False)\n",
        "val_images = train_images[idx]\n",
        "val_labels = train_labels[idx]\n",
        "train_images = np.delete(train_images, idx, axis=0)\n",
        "train_labels = np.delete(train_labels, idx, axis=0)"
      ],
      "execution_count": 0,
      "outputs": []
    },
    {
      "cell_type": "code",
      "metadata": {
        "id": "Tet_zM0pEeqm",
        "colab_type": "code",
        "colab": {}
      },
      "source": [
        "# Convert numpy to tf.data.Dataset\n",
        "# This is from https://www.tensorflow.org/beta/tutorials/load_data/numpy\n",
        "\n",
        "train_dataset = tf.data.Dataset.from_tensor_slices((train_images, train_labels))\n",
        "test_dataset = tf.data.Dataset.from_tensor_slices((test_images, test_labels))\n",
        "val_dataset = tf.data.Dataset.from_tensor_slices((val_images, val_labels))"
      ],
      "execution_count": 0,
      "outputs": []
    },
    {
      "cell_type": "code",
      "metadata": {
        "id": "AHMqR2tEElgC",
        "colab_type": "code",
        "colab": {
          "base_uri": "https://localhost:8080/",
          "height": 34
        },
        "outputId": "5d35649e-60aa-4316-b00f-598d8a68b9f4"
      },
      "source": [
        "\n",
        "strategy = tf.distribute.MirroredStrategy()\n",
        "print('Number of devices: {}'.format(strategy.num_replicas_in_sync))"
      ],
      "execution_count": 10,
      "outputs": [
        {
          "output_type": "stream",
          "text": [
            "Number of devices: 1\n"
          ],
          "name": "stdout"
        }
      ]
    },
    {
      "cell_type": "code",
      "metadata": {
        "id": "HXrW55K9K31L",
        "colab_type": "code",
        "colab": {}
      },
      "source": [
        "BUFFER_SIZE = 100000\n",
        "\n",
        "BATCH_SIZE_PER_REPLICA = 64\n",
        "BATCH_SIZE = BATCH_SIZE_PER_REPLICA * strategy.num_replicas_in_sync\n",
        "\n",
        "my_train_dataset = train_dataset.map(scale).shuffle(BUFFER_SIZE).batch(BATCH_SIZE)\n",
        "my_eval_dataset = test_dataset.map(scale).batch(BATCH_SIZE)\n",
        "my_val_dataset = val_dataset.map(scale).shuffle(BUFFER_SIZE).batch(1)"
      ],
      "execution_count": 0,
      "outputs": []
    },
    {
      "cell_type": "code",
      "metadata": {
        "id": "2f02YKX_K8Fp",
        "colab_type": "code",
        "colab": {
          "base_uri": "https://localhost:8080/",
          "height": 51
        },
        "outputId": "66a39c30-4a7c-43cd-8759-5ea8c571ab35"
      },
      "source": [
        "with strategy.scope():\n",
        "  model = tf.keras.Sequential([\n",
        "      tf.keras.layers.Conv2D(32, 3, activation='relu', input_shape=(28, 28, 1)),\n",
        "      tf.keras.layers.MaxPooling2D(),\n",
        "      tf.keras.layers.Flatten(),\n",
        "      tf.keras.layers.Dense(64, activation='relu'),\n",
        "      tf.keras.layers.Dense(10, activation='softmax')\n",
        "  ])\n",
        "\n",
        "  model.compile(loss='sparse_categorical_crossentropy',\n",
        "                optimizer=tf.keras.optimizers.Adam(),\n",
        "                metrics=['accuracy'])"
      ],
      "execution_count": 13,
      "outputs": [
        {
          "output_type": "stream",
          "text": [
            "INFO:tensorflow:Reduce to /job:localhost/replica:0/task:0/device:CPU:0 then broadcast to ('/job:localhost/replica:0/task:0/device:CPU:0',).\n",
            "INFO:tensorflow:Reduce to /job:localhost/replica:0/task:0/device:CPU:0 then broadcast to ('/job:localhost/replica:0/task:0/device:CPU:0',).\n"
          ],
          "name": "stdout"
        }
      ]
    },
    {
      "cell_type": "code",
      "metadata": {
        "id": "A1Q9KNTMK_hR",
        "colab_type": "code",
        "colab": {}
      },
      "source": [
        " # Define the checkpoint directory to store the checkpoints\n",
        "\n",
        "import os\n",
        "checkpoint_dir = './training_checkpoints'\n",
        "# Name of the checkpoint files\n",
        "checkpoint_prefix = os.path.join(checkpoint_dir, \"ckpt_{epoch}\")\n",
        "\n",
        "\n",
        "# Function for decaying the learning rate.\n",
        "# You can define any decay function you need.\n",
        "def decay(epoch):\n",
        "      if epoch < 3:\n",
        "          return 1e-3\n",
        "      elif epoch >= 3 and epoch < 7:\n",
        "          return 1e-4\n",
        "      else:\n",
        "          return 1e-5"
      ],
      "execution_count": 0,
      "outputs": []
    },
    {
      "cell_type": "code",
      "metadata": {
        "id": "8Y1c7iDRLB2O",
        "colab_type": "code",
        "colab": {}
      },
      "source": [
        "# Select a subset of the validation data to examine\n",
        "# Here, we choose 5 elements with label \"0\" == [1, 0, 0, .., 0]\n",
        "validation_class_zero = (np.array([\n",
        "    el for el, label in zip(tf.cast(test_images, tf.float32), tf.keras.utils.to_categorical(test_labels, num_classes=NUM_CLASSES))\n",
        "    if np.all(label == np.array([1] + [0] * 9))\n",
        "][0:5]), None)\n",
        "# Select a subset of the validation data to examine\n",
        "# Here, we choose 5 elements with label \"4\" == [0, 0, 0, 0, 1, 0, 0, 0, 0, 0]\n",
        "validation_class_fours = (np.array([\n",
        "    el for el, label in zip(tf.cast(test_images, tf.float32), tf.keras.utils.to_categorical(test_labels, num_classes=NUM_CLASSES))\n",
        "    if np.all(label == np.array([0] * 4 + [1] + [0] * 5))\n",
        "][0:5]), None)"
      ],
      "execution_count": 0,
      "outputs": []
    },
    {
      "cell_type": "code",
      "metadata": {
        "id": "eWJnv5wtLD2d",
        "colab_type": "code",
        "colab": {
          "base_uri": "https://localhost:8080/",
          "height": 434
        },
        "outputId": "03f75b36-0a97-4a7d-eb44-c431d3ff9707"
      },
      "source": [
        "# One hot encore labels 0, 1, .., 9 to [0, 0, .., 1, 0, 0]\n",
        "#train_labels = tf.keras.utils.to_categorical(train_labels, num_classes=NUM_CLASSES)\n",
        "#test_labels = tf.keras.utils.to_categorical(test_labels, num_classes=NUM_CLASSES)\n",
        "\n",
        "callbacks = [\n",
        "\n",
        "    tf.keras.callbacks.ModelCheckpoint(filepath=checkpoint_prefix,save_best_only=True, monitor='val_acc', mode='max',\n",
        "                                       save_weights_only=False),\n",
        "    tf.keras.callbacks.LearningRateScheduler(decay)\n",
        "\n",
        "]\n",
        "\n",
        "\n",
        "model.fit(my_train_dataset, validation_data=my_val_dataset,\n",
        "        steps_per_epoch=5,\n",
        "        validation_steps=5, epochs=5, callbacks=callbacks)\n"
      ],
      "execution_count": 16,
      "outputs": [
        {
          "output_type": "stream",
          "text": [
            "Train for 5 steps, validate for 5 steps\n",
            "Epoch 1/5\n",
            "INFO:tensorflow:Reduce to /job:localhost/replica:0/task:0/device:CPU:0 then broadcast to ('/job:localhost/replica:0/task:0/device:CPU:0',).\n",
            "INFO:tensorflow:Reduce to /job:localhost/replica:0/task:0/device:CPU:0 then broadcast to ('/job:localhost/replica:0/task:0/device:CPU:0',).\n",
            "INFO:tensorflow:Reduce to /job:localhost/replica:0/task:0/device:CPU:0 then broadcast to ('/job:localhost/replica:0/task:0/device:CPU:0',).\n",
            "INFO:tensorflow:Reduce to /job:localhost/replica:0/task:0/device:CPU:0 then broadcast to ('/job:localhost/replica:0/task:0/device:CPU:0',).\n",
            "1/5 [=====>........................] - ETA: 18s - loss: 2.3169 - accuracy: 0.0469INFO:tensorflow:Reduce to /job:localhost/replica:0/task:0/device:CPU:0 then broadcast to ('/job:localhost/replica:0/task:0/device:CPU:0',).\n",
            "INFO:tensorflow:Reduce to /job:localhost/replica:0/task:0/device:CPU:0 then broadcast to ('/job:localhost/replica:0/task:0/device:CPU:0',).\n",
            "WARNING:tensorflow:Can save best model only with val_acc available, skipping.\n",
            "5/5 [==============================] - 6s 1s/step - loss: 2.1124 - accuracy: 0.2844 - val_loss: 2.2496 - val_accuracy: 0.0000e+00\n",
            "Epoch 2/5\n",
            "1/5 [=====>........................] - ETA: 0s - loss: 1.8245 - accuracy: 0.3125WARNING:tensorflow:Can save best model only with val_acc available, skipping.\n",
            "5/5 [==============================] - 0s 89ms/step - loss: 1.6273 - accuracy: 0.4844 - val_loss: 1.4064 - val_accuracy: 0.4000\n",
            "Epoch 3/5\n",
            "1/5 [=====>........................] - ETA: 0s - loss: 1.3239 - accuracy: 0.6250WARNING:tensorflow:Can save best model only with val_acc available, skipping.\n",
            "5/5 [==============================] - 0s 88ms/step - loss: 1.2233 - accuracy: 0.6250 - val_loss: 0.7263 - val_accuracy: 0.8000\n",
            "Epoch 4/5\n",
            "1/5 [=====>........................] - ETA: 0s - loss: 0.8326 - accuracy: 0.7656WARNING:tensorflow:Can save best model only with val_acc available, skipping.\n",
            "5/5 [==============================] - 0s 87ms/step - loss: 0.9688 - accuracy: 0.6781 - val_loss: 0.9411 - val_accuracy: 0.6000\n",
            "Epoch 5/5\n",
            "1/5 [=====>........................] - ETA: 0s - loss: 0.9458 - accuracy: 0.6875WARNING:tensorflow:Can save best model only with val_acc available, skipping.\n",
            "5/5 [==============================] - 0s 90ms/step - loss: 0.9529 - accuracy: 0.7000 - val_loss: 1.1546 - val_accuracy: 0.4000\n"
          ],
          "name": "stdout"
        },
        {
          "output_type": "execute_result",
          "data": {
            "text/plain": [
              "<tensorflow.python.keras.callbacks.History at 0x7f3ae6622c50>"
            ]
          },
          "metadata": {
            "tags": []
          },
          "execution_count": 16
        }
      ]
    },
    {
      "cell_type": "code",
      "metadata": {
        "id": "TsMXdnCaLHjP",
        "colab_type": "code",
        "colab": {}
      },
      "source": [
        ""
      ],
      "execution_count": 0,
      "outputs": []
    }
  ]
}