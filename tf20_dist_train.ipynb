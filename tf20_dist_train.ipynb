{
  "nbformat": 4,
  "nbformat_minor": 0,
  "metadata": {
    "colab": {
      "name": "tf20_dist_train.ipynb",
      "provenance": [],
      "include_colab_link": true
    },
    "kernelspec": {
      "name": "python3",
      "display_name": "Python 3"
    },
    "accelerator": "GPU"
  },
  "cells": [
    {
      "cell_type": "markdown",
      "metadata": {
        "id": "view-in-github",
        "colab_type": "text"
      },
      "source": [
        "<a href=\"https://colab.research.google.com/github/shinchan75034/testrep/blob/master/tf20_dist_train.ipynb\" target=\"_parent\"><img src=\"https://colab.research.google.com/assets/colab-badge.svg\" alt=\"Open In Colab\"/></a>"
      ]
    },
    {
      "cell_type": "code",
      "metadata": {
        "id": "BQz_d5QbDhrM",
        "colab_type": "code",
        "outputId": "52f6a11b-7738-4dde-fdce-e0e18507bc37",
        "colab": {
          "base_uri": "https://localhost:8080/",
          "height": 537
        }
      },
      "source": [
        "! pip install tensorflow-gpu==2.0.0-rc1"
      ],
      "execution_count": 1,
      "outputs": [
        {
          "output_type": "stream",
          "text": [
            "Collecting tensorflow-gpu==2.0.0-rc1\n",
            "\u001b[?25l  Downloading https://files.pythonhosted.org/packages/73/cf/2fc69ba3e59edc8333e2676fa71b40197718dea7dc1282c79955cf6b2acb/tensorflow_gpu-2.0.0rc1-cp36-cp36m-manylinux2010_x86_64.whl (380.5MB)\n",
            "\u001b[K     |████████████████████████████████| 380.5MB 55kB/s \n",
            "\u001b[?25hCollecting tb-nightly<1.15.0a20190807,>=1.15.0a20190806 (from tensorflow-gpu==2.0.0-rc1)\n",
            "\u001b[?25l  Downloading https://files.pythonhosted.org/packages/bc/88/24b5fb7280e74c7cf65bde47c171547fd02afb3840cff41bcbe9270650f5/tb_nightly-1.15.0a20190806-py3-none-any.whl (4.3MB)\n",
            "\u001b[K     |████████████████████████████████| 4.3MB 28.9MB/s \n",
            "\u001b[?25hRequirement already satisfied: keras-applications>=1.0.8 in /usr/local/lib/python3.6/dist-packages (from tensorflow-gpu==2.0.0-rc1) (1.0.8)\n",
            "Requirement already satisfied: google-pasta>=0.1.6 in /usr/local/lib/python3.6/dist-packages (from tensorflow-gpu==2.0.0-rc1) (0.1.7)\n",
            "Requirement already satisfied: numpy<2.0,>=1.16.0 in /usr/local/lib/python3.6/dist-packages (from tensorflow-gpu==2.0.0-rc1) (1.16.5)\n",
            "Requirement already satisfied: wheel>=0.26 in /usr/local/lib/python3.6/dist-packages (from tensorflow-gpu==2.0.0-rc1) (0.33.6)\n",
            "Requirement already satisfied: termcolor>=1.1.0 in /usr/local/lib/python3.6/dist-packages (from tensorflow-gpu==2.0.0-rc1) (1.1.0)\n",
            "Requirement already satisfied: wrapt>=1.11.1 in /usr/local/lib/python3.6/dist-packages (from tensorflow-gpu==2.0.0-rc1) (1.11.2)\n",
            "Requirement already satisfied: astor>=0.6.0 in /usr/local/lib/python3.6/dist-packages (from tensorflow-gpu==2.0.0-rc1) (0.8.0)\n",
            "Requirement already satisfied: grpcio>=1.8.6 in /usr/local/lib/python3.6/dist-packages (from tensorflow-gpu==2.0.0-rc1) (1.15.0)\n",
            "Requirement already satisfied: absl-py>=0.7.0 in /usr/local/lib/python3.6/dist-packages (from tensorflow-gpu==2.0.0-rc1) (0.8.0)\n",
            "Collecting tf-estimator-nightly<1.14.0.dev2019080602,>=1.14.0.dev2019080601 (from tensorflow-gpu==2.0.0-rc1)\n",
            "\u001b[?25l  Downloading https://files.pythonhosted.org/packages/21/28/f2a27a62943d5f041e4a6fd404b2d21cb7c59b2242a4e73b03d9ba166552/tf_estimator_nightly-1.14.0.dev2019080601-py2.py3-none-any.whl (501kB)\n",
            "\u001b[K     |████████████████████████████████| 501kB 42.5MB/s \n",
            "\u001b[?25hRequirement already satisfied: protobuf>=3.6.1 in /usr/local/lib/python3.6/dist-packages (from tensorflow-gpu==2.0.0-rc1) (3.7.1)\n",
            "Requirement already satisfied: keras-preprocessing>=1.0.5 in /usr/local/lib/python3.6/dist-packages (from tensorflow-gpu==2.0.0-rc1) (1.1.0)\n",
            "Requirement already satisfied: opt-einsum>=2.3.2 in /usr/local/lib/python3.6/dist-packages (from tensorflow-gpu==2.0.0-rc1) (3.0.1)\n",
            "Requirement already satisfied: six>=1.10.0 in /usr/local/lib/python3.6/dist-packages (from tensorflow-gpu==2.0.0-rc1) (1.12.0)\n",
            "Requirement already satisfied: gast>=0.2.0 in /usr/local/lib/python3.6/dist-packages (from tensorflow-gpu==2.0.0-rc1) (0.2.2)\n",
            "Requirement already satisfied: markdown>=2.6.8 in /usr/local/lib/python3.6/dist-packages (from tb-nightly<1.15.0a20190807,>=1.15.0a20190806->tensorflow-gpu==2.0.0-rc1) (3.1.1)\n",
            "Requirement already satisfied: setuptools>=41.0.0 in /usr/local/lib/python3.6/dist-packages (from tb-nightly<1.15.0a20190807,>=1.15.0a20190806->tensorflow-gpu==2.0.0-rc1) (41.2.0)\n",
            "Requirement already satisfied: werkzeug>=0.11.15 in /usr/local/lib/python3.6/dist-packages (from tb-nightly<1.15.0a20190807,>=1.15.0a20190806->tensorflow-gpu==2.0.0-rc1) (0.15.6)\n",
            "Requirement already satisfied: h5py in /usr/local/lib/python3.6/dist-packages (from keras-applications>=1.0.8->tensorflow-gpu==2.0.0-rc1) (2.8.0)\n",
            "Installing collected packages: tb-nightly, tf-estimator-nightly, tensorflow-gpu\n",
            "Successfully installed tb-nightly-1.15.0a20190806 tensorflow-gpu-2.0.0rc1 tf-estimator-nightly-1.14.0.dev2019080601\n"
          ],
          "name": "stdout"
        }
      ]
    },
    {
      "cell_type": "code",
      "metadata": {
        "id": "FjuiuhwSDz4-",
        "colab_type": "code",
        "outputId": "b4416b91-7d73-4684-d132-ac920c522bd8",
        "colab": {
          "base_uri": "https://localhost:8080/",
          "height": 569
        }
      },
      "source": [
        "import tensorflow as tf\n",
        "from tensorflow.python.client import device_lib\n",
        "print(device_lib.list_local_devices())\n",
        "print(tf.__version__)"
      ],
      "execution_count": 2,
      "outputs": [
        {
          "output_type": "stream",
          "text": [
            "[name: \"/device:CPU:0\"\n",
            "device_type: \"CPU\"\n",
            "memory_limit: 268435456\n",
            "locality {\n",
            "}\n",
            "incarnation: 17081757503189630243\n",
            ", name: \"/device:XLA_CPU:0\"\n",
            "device_type: \"XLA_CPU\"\n",
            "memory_limit: 17179869184\n",
            "locality {\n",
            "}\n",
            "incarnation: 6262308495780395194\n",
            "physical_device_desc: \"device: XLA_CPU device\"\n",
            ", name: \"/device:XLA_GPU:0\"\n",
            "device_type: \"XLA_GPU\"\n",
            "memory_limit: 17179869184\n",
            "locality {\n",
            "}\n",
            "incarnation: 12905009732546571585\n",
            "physical_device_desc: \"device: XLA_GPU device\"\n",
            ", name: \"/device:GPU:0\"\n",
            "device_type: \"GPU\"\n",
            "memory_limit: 11330115994\n",
            "locality {\n",
            "  bus_id: 1\n",
            "  links {\n",
            "  }\n",
            "}\n",
            "incarnation: 18440663633564857055\n",
            "physical_device_desc: \"device: 0, name: Tesla K80, pci bus id: 0000:00:04.0, compute capability: 3.7\"\n",
            "]\n",
            "2.0.0-rc1\n"
          ],
          "name": "stdout"
        }
      ]
    },
    {
      "cell_type": "code",
      "metadata": {
        "id": "CNzzLc-oECoT",
        "colab_type": "code",
        "outputId": "1a4c6bc0-6e6c-4a8c-a401-afd87e47b76d",
        "colab": {
          "base_uri": "https://localhost:8080/",
          "height": 244
        }
      },
      "source": [
        "! pip install tf-explain"
      ],
      "execution_count": 3,
      "outputs": [
        {
          "output_type": "stream",
          "text": [
            "Collecting tf-explain\n",
            "  Downloading https://files.pythonhosted.org/packages/af/54/cb2869ba0da4cf282af546441bab3e1d7a611bfc8811acd2345b41295038/tf_explain-0.0.2a0-py3-none-any.whl\n",
            "Collecting opencv-python>=4.1.0.25 (from tf-explain)\n",
            "\u001b[?25l  Downloading https://files.pythonhosted.org/packages/5e/7e/bd5425f4dacb73367fddc71388a47c1ea570839197c2bcad86478e565186/opencv_python-4.1.1.26-cp36-cp36m-manylinux1_x86_64.whl (28.7MB)\n",
            "\u001b[K     |████████████████████████████████| 28.7MB 34.5MB/s \n",
            "\u001b[?25hRequirement already satisfied: numpy>=1.11.3 in /usr/local/lib/python3.6/dist-packages (from opencv-python>=4.1.0.25->tf-explain) (1.16.5)\n",
            "\u001b[31mERROR: albumentations 0.1.12 has requirement imgaug<0.2.7,>=0.2.5, but you'll have imgaug 0.2.9 which is incompatible.\u001b[0m\n",
            "Installing collected packages: opencv-python, tf-explain\n",
            "  Found existing installation: opencv-python 3.4.5.20\n",
            "    Uninstalling opencv-python-3.4.5.20:\n",
            "      Successfully uninstalled opencv-python-3.4.5.20\n",
            "Successfully installed opencv-python-4.1.1.26 tf-explain-0.0.2a0\n"
          ],
          "name": "stdout"
        }
      ]
    },
    {
      "cell_type": "code",
      "metadata": {
        "id": "-Mo-qlAcEJMk",
        "colab_type": "code",
        "colab": {}
      },
      "source": [
        "import tf_explain\n",
        "import numpy as np\n",
        "import time"
      ],
      "execution_count": 0,
      "outputs": []
    },
    {
      "cell_type": "code",
      "metadata": {
        "id": "e5uY-jlpETVz",
        "colab_type": "code",
        "colab": {}
      },
      "source": [
        "INPUT_SHAPE = (28, 28, 1)\n",
        "NUM_CLASSES = 10\n",
        "\n",
        "AVAILABLE_DATASETS = {\n",
        "    'mnist': tf.keras.datasets.mnist,\n",
        "    'fashion_mnist': tf.keras.datasets.fashion_mnist,\n",
        "}\n",
        "DATASET_NAME = 'fashion_mnist' "
      ],
      "execution_count": 0,
      "outputs": []
    },
    {
      "cell_type": "code",
      "metadata": {
        "id": "j9KoadWWEXI2",
        "colab_type": "code",
        "colab": {
          "base_uri": "https://localhost:8080/",
          "height": 155
        },
        "outputId": "53ace649-1284-4511-ab9f-1dec9146e654"
      },
      "source": [
        "# Load dataset\n",
        "dataset = AVAILABLE_DATASETS[DATASET_NAME]\n",
        "(train_images, train_labels), (test_images, test_labels) = dataset.load_data()"
      ],
      "execution_count": 6,
      "outputs": [
        {
          "output_type": "stream",
          "text": [
            "Downloading data from https://storage.googleapis.com/tensorflow/tf-keras-datasets/train-labels-idx1-ubyte.gz\n",
            "32768/29515 [=================================] - 0s 0us/step\n",
            "Downloading data from https://storage.googleapis.com/tensorflow/tf-keras-datasets/train-images-idx3-ubyte.gz\n",
            "26427392/26421880 [==============================] - 0s 0us/step\n",
            "Downloading data from https://storage.googleapis.com/tensorflow/tf-keras-datasets/t10k-labels-idx1-ubyte.gz\n",
            "8192/5148 [===============================================] - 0s 0us/step\n",
            "Downloading data from https://storage.googleapis.com/tensorflow/tf-keras-datasets/t10k-images-idx3-ubyte.gz\n",
            "4423680/4422102 [==============================] - 0s 0us/step\n"
          ],
          "name": "stdout"
        }
      ]
    },
    {
      "cell_type": "code",
      "metadata": {
        "id": "U5ArxFlJEZYg",
        "colab_type": "code",
        "colab": {}
      },
      "source": [
        "def scale(image, label):\n",
        "  image = tf.cast(image, tf.float32)\n",
        "  image /= 255\n",
        "\n",
        "  return image, label\n",
        "\n",
        "# Convert from (28, 28) images to (28, 28, 1) '...' is equivalent to ':' which means everything. now train images are shape 60k, 28,28,1\n",
        "train_images = train_images[..., tf.newaxis]\n",
        "test_images = test_images[..., tf.newaxis]"
      ],
      "execution_count": 0,
      "outputs": []
    },
    {
      "cell_type": "code",
      "metadata": {
        "id": "0kusZqYOEcQB",
        "colab_type": "code",
        "colab": {}
      },
      "source": [
        "idx = np.random.choice(len(train_images), 10000, replace = False)\n",
        "val_images = train_images[idx]\n",
        "val_labels = train_labels[idx]\n",
        "train_images = np.delete(train_images, idx, axis=0)\n",
        "train_labels = np.delete(train_labels, idx, axis=0)"
      ],
      "execution_count": 0,
      "outputs": []
    },
    {
      "cell_type": "code",
      "metadata": {
        "id": "Tet_zM0pEeqm",
        "colab_type": "code",
        "colab": {}
      },
      "source": [
        "# Convert numpy to tf.data.Dataset\n",
        "# This is from https://www.tensorflow.org/beta/tutorials/load_data/numpy\n",
        "\n",
        "train_dataset = tf.data.Dataset.from_tensor_slices((train_images, train_labels))\n",
        "test_dataset = tf.data.Dataset.from_tensor_slices((test_images, test_labels))\n",
        "val_dataset = tf.data.Dataset.from_tensor_slices((val_images, val_labels))"
      ],
      "execution_count": 0,
      "outputs": []
    },
    {
      "cell_type": "code",
      "metadata": {
        "id": "AHMqR2tEElgC",
        "colab_type": "code",
        "outputId": "8f92e6dc-ca45-4eb3-8519-4646baf005b9",
        "colab": {
          "base_uri": "https://localhost:8080/",
          "height": 34
        }
      },
      "source": [
        "\n",
        "strategy = tf.distribute.MirroredStrategy()\n",
        "print('Number of devices: {}'.format(strategy.num_replicas_in_sync))"
      ],
      "execution_count": 10,
      "outputs": [
        {
          "output_type": "stream",
          "text": [
            "Number of devices: 1\n"
          ],
          "name": "stdout"
        }
      ]
    },
    {
      "cell_type": "code",
      "metadata": {
        "id": "HXrW55K9K31L",
        "colab_type": "code",
        "colab": {}
      },
      "source": [
        "BUFFER_SIZE = 100000\n",
        "\n",
        "BATCH_SIZE_PER_REPLICA = 64\n",
        "BATCH_SIZE = BATCH_SIZE_PER_REPLICA * strategy.num_replicas_in_sync\n",
        "\n",
        "my_train_dataset = train_dataset.map(scale).shuffle(BUFFER_SIZE).batch(BATCH_SIZE)\n",
        "my_eval_dataset = test_dataset.map(scale).batch(BATCH_SIZE)\n",
        "my_val_dataset = val_dataset.map(scale).shuffle(BUFFER_SIZE).batch(1)"
      ],
      "execution_count": 0,
      "outputs": []
    },
    {
      "cell_type": "code",
      "metadata": {
        "id": "2f02YKX_K8Fp",
        "colab_type": "code",
        "colab": {}
      },
      "source": [
        "with strategy.scope():\n",
        "  model = tf.keras.Sequential([\n",
        "      tf.keras.layers.Conv2D(32, 3, activation='relu', input_shape=(28, 28, 1)),\n",
        "      tf.keras.layers.MaxPooling2D(),\n",
        "      tf.keras.layers.Flatten(),\n",
        "      tf.keras.layers.Dense(64, activation='relu'),\n",
        "      tf.keras.layers.Dense(10, activation='softmax')\n",
        "  ])\n",
        "\n",
        "  model.compile(loss='sparse_categorical_crossentropy',\n",
        "                optimizer=tf.keras.optimizers.Adam(),\n",
        "                metrics=['accuracy'])"
      ],
      "execution_count": 0,
      "outputs": []
    },
    {
      "cell_type": "code",
      "metadata": {
        "id": "A1Q9KNTMK_hR",
        "colab_type": "code",
        "colab": {}
      },
      "source": [
        " # Define the checkpoint directory to store the checkpoints\n",
        "\n",
        "import os\n",
        "checkpoint_dir = './training_checkpoints'\n",
        "# Name of the checkpoint files\n",
        "checkpoint_prefix = os.path.join(checkpoint_dir, \"ckpt_{epoch}\")\n",
        "\n",
        "\n",
        "# Function for decaying the learning rate.\n",
        "# You can define any decay function you need.\n",
        "def decay(epoch):\n",
        "      if epoch < 3:\n",
        "          return 1e-3\n",
        "      elif epoch >= 3 and epoch < 7:\n",
        "          return 1e-4\n",
        "      else:\n",
        "          return 1e-5"
      ],
      "execution_count": 0,
      "outputs": []
    },
    {
      "cell_type": "code",
      "metadata": {
        "id": "8Y1c7iDRLB2O",
        "colab_type": "code",
        "colab": {}
      },
      "source": [
        "# Select a subset of the validation data to examine\n",
        "# Here, we choose 5 elements with label \"0\" == [1, 0, 0, .., 0]\n",
        "validation_class_zero = (np.array([\n",
        "    el for el, label in zip(tf.cast(test_images, tf.float32), tf.keras.utils.to_categorical(test_labels, num_classes=NUM_CLASSES))\n",
        "    if np.all(label == np.array([1] + [0] * 9))\n",
        "][0:5]), None)\n",
        "# Select a subset of the validation data to examine\n",
        "# Here, we choose 5 elements with label \"4\" == [0, 0, 0, 0, 1, 0, 0, 0, 0, 0]\n",
        "validation_class_fours = (np.array([\n",
        "    el for el, label in zip(tf.cast(test_images, tf.float32), tf.keras.utils.to_categorical(test_labels, num_classes=NUM_CLASSES))\n",
        "    if np.all(label == np.array([0] * 4 + [1] + [0] * 5))\n",
        "][0:5]), None)"
      ],
      "execution_count": 0,
      "outputs": []
    },
    {
      "cell_type": "code",
      "metadata": {
        "id": "eWJnv5wtLD2d",
        "colab_type": "code",
        "outputId": "72c04047-80d9-4cf0-8cc0-8467d8bc75d7",
        "colab": {
          "base_uri": "https://localhost:8080/",
          "height": 397
        }
      },
      "source": [
        "# One hot encore labels 0, 1, .., 9 to [0, 0, .., 1, 0, 0]\n",
        "#train_labels = tf.keras.utils.to_categorical(train_labels, num_classes=NUM_CLASSES)\n",
        "#test_labels = tf.keras.utils.to_categorical(test_labels, num_classes=NUM_CLASSES)\n",
        "\n",
        "callbacks = [\n",
        "\n",
        "    tf.keras.callbacks.ModelCheckpoint(filepath=checkpoint_prefix,save_best_only=True, monitor='val_accuracy', mode='max',\n",
        "                                       save_weights_only=False),\n",
        "    tf.keras.callbacks.LearningRateScheduler(decay)\n",
        "\n",
        "]\n",
        "\n",
        "\n",
        "histCallback= model.fit(my_train_dataset, validation_data=my_val_dataset,\n",
        "                        steps_per_epoch=5,\n",
        "                        validation_steps=5, epochs=10, callbacks=callbacks)\n"
      ],
      "execution_count": 49,
      "outputs": [
        {
          "output_type": "stream",
          "text": [
            "Train for 5 steps, validate for 5 steps\n",
            "Epoch 1/10\n",
            "1/5 [=====>........................] - ETA: 13s - loss: 0.4088 - accuracy: 0.8750INFO:tensorflow:Assets written to: ./training_checkpoints/ckpt_1/assets\n",
            "5/5 [==============================] - 6s 1s/step - loss: 0.5808 - accuracy: 0.7781 - val_loss: 0.1325 - val_accuracy: 1.0000\n",
            "Epoch 2/10\n",
            "5/5 [==============================] - 0s 90ms/step - loss: 0.5457 - accuracy: 0.8031 - val_loss: 1.5835 - val_accuracy: 0.6000\n",
            "Epoch 3/10\n",
            "5/5 [==============================] - 0s 96ms/step - loss: 0.6604 - accuracy: 0.7781 - val_loss: 0.7047 - val_accuracy: 0.4000\n",
            "Epoch 4/10\n",
            "5/5 [==============================] - 0s 98ms/step - loss: 0.5908 - accuracy: 0.7844 - val_loss: 0.4416 - val_accuracy: 0.8000\n",
            "Epoch 5/10\n",
            "5/5 [==============================] - 0s 99ms/step - loss: 0.5809 - accuracy: 0.8000 - val_loss: 0.4266 - val_accuracy: 1.0000\n",
            "Epoch 6/10\n",
            "5/5 [==============================] - 0s 96ms/step - loss: 0.5281 - accuracy: 0.8156 - val_loss: 1.6122 - val_accuracy: 0.6000\n",
            "Epoch 7/10\n",
            "5/5 [==============================] - 0s 97ms/step - loss: 0.5391 - accuracy: 0.8188 - val_loss: 0.3804 - val_accuracy: 0.8000\n",
            "Epoch 8/10\n",
            "5/5 [==============================] - 0s 99ms/step - loss: 0.5283 - accuracy: 0.8188 - val_loss: 0.2789 - val_accuracy: 1.0000\n",
            "Epoch 9/10\n",
            "5/5 [==============================] - 0s 93ms/step - loss: 0.5262 - accuracy: 0.8125 - val_loss: 1.7929 - val_accuracy: 0.6000\n",
            "Epoch 10/10\n",
            "5/5 [==============================] - 0s 96ms/step - loss: 0.5586 - accuracy: 0.8000 - val_loss: 0.6648 - val_accuracy: 0.6000\n"
          ],
          "name": "stdout"
        }
      ]
    },
    {
      "cell_type": "code",
      "metadata": {
        "id": "TsMXdnCaLHjP",
        "colab_type": "code",
        "colab": {
          "base_uri": "https://localhost:8080/",
          "height": 103
        },
        "outputId": "578085f1-74d6-4f5c-cac5-7dd0d442b59d"
      },
      "source": [
        "for key in histCallback.history:\n",
        "    print(key)"
      ],
      "execution_count": 50,
      "outputs": [
        {
          "output_type": "stream",
          "text": [
            "loss\n",
            "accuracy\n",
            "val_loss\n",
            "val_accuracy\n",
            "lr\n"
          ],
          "name": "stdout"
        }
      ]
    },
    {
      "cell_type": "code",
      "metadata": {
        "id": "MMd87fCRiZh5",
        "colab_type": "code",
        "colab": {
          "base_uri": "https://localhost:8080/",
          "height": 569
        },
        "outputId": "4d2b0a9a-91a6-49b7-9f7f-2621b9d8d72b"
      },
      "source": [
        "histCallback.history"
      ],
      "execution_count": 51,
      "outputs": [
        {
          "output_type": "execute_result",
          "data": {
            "text/plain": [
              "{'accuracy': [0.778125,\n",
              "  0.803125,\n",
              "  0.778125,\n",
              "  0.784375,\n",
              "  0.8,\n",
              "  0.815625,\n",
              "  0.81875,\n",
              "  0.81875,\n",
              "  0.8125,\n",
              "  0.8],\n",
              " 'loss': [0.5808024048805237,\n",
              "  0.545696222782135,\n",
              "  0.6603810071945191,\n",
              "  0.5908007860183716,\n",
              "  0.5809339165687561,\n",
              "  0.528089565038681,\n",
              "  0.5390966057777404,\n",
              "  0.5282731473445892,\n",
              "  0.5262163519859314,\n",
              "  0.5585838615894317],\n",
              " 'lr': [0.001, 0.001, 0.001, 1e-04, 1e-04, 1e-04, 1e-04, 1e-05, 1e-05, 1e-05],\n",
              " 'val_accuracy': [1.0, 0.6, 0.4, 0.8, 1.0, 0.6, 0.8, 1.0, 0.6, 0.6],\n",
              " 'val_loss': [0.13249341454356908,\n",
              "  1.5834753826260566,\n",
              "  0.704748560488224,\n",
              "  0.4416013039648533,\n",
              "  0.4266297370195389,\n",
              "  1.6121714383363723,\n",
              "  0.3803622441366315,\n",
              "  0.2788595125777647,\n",
              "  1.7929214537143707,\n",
              "  0.6648135334253311]}"
            ]
          },
          "metadata": {
            "tags": []
          },
          "execution_count": 51
        }
      ]
    },
    {
      "cell_type": "code",
      "metadata": {
        "id": "-SrqgmiLhEvZ",
        "colab_type": "code",
        "colab": {
          "base_uri": "https://localhost:8080/",
          "height": 86
        },
        "outputId": "99671082-d728-40fc-8684-1bdc377597c8"
      },
      "source": [
        "!ls -lrt ./training_checkpoints/ckpt_1"
      ],
      "execution_count": 54,
      "outputs": [
        {
          "output_type": "stream",
          "text": [
            "total 120\n",
            "drwxr-xr-x 2 root root   4096 Sep 24 04:25 assets\n",
            "drwxr-xr-x 2 root root   4096 Sep 24 04:36 variables\n",
            "-rw-r--r-- 1 root root 114493 Sep 24 04:36 saved_model.pb\n"
          ],
          "name": "stdout"
        }
      ]
    },
    {
      "cell_type": "code",
      "metadata": {
        "id": "ICtbpu1giAfy",
        "colab_type": "code",
        "colab": {}
      },
      "source": [
        ""
      ],
      "execution_count": 0,
      "outputs": []
    }
  ]
}